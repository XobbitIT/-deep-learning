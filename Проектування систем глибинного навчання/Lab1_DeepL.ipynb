{
 "cells": [
  {
   "cell_type": "code",
   "execution_count": 2,
   "id": "cce72222",
   "metadata": {},
   "outputs": [],
   "source": [
    "import pandas as pd\n",
    "from keras.models import Sequential\n",
    "from keras.layers import Dense\n",
    "from keras.callbacks import EarlyStopping\n",
    "from keras.losses import MeanSquaredError, CategoricalCrossentropy\n",
    "from keras.optimizers import RMSprop, Adam\n",
    "from keras.utils import to_categorical\n",
    "from sklearn.decomposition import PCA\n",
    "\n",
    "import matplotlib.pyplot as plt\n",
    "import numpy as np"
   ]
  },
  {
   "cell_type": "code",
   "execution_count": 3,
   "id": "a31ead4b",
   "metadata": {},
   "outputs": [],
   "source": [
    "def plot_history(history):\n",
    "    if 'accuracy' in history.history:\n",
    "        plt.plot(history.history['accuracy'])\n",
    "        plt.title('model accuracy')\n",
    "        plt.ylabel('accuracy')\n",
    "        plt.xlabel('epoch')\n",
    "        plt.legend(['train', 'test'], loc='upper left')\n",
    "    if 'val_accuracy' in history.history:\n",
    "        plt.plot(history.history['val_accuracy'])\n",
    "    plt.show()\n",
    "    plt.plot(history.history['loss'])\n",
    "    plt.plot(history.history['val_loss'])\n",
    "    plt.title('model loss')\n",
    "    plt.ylabel('loss')\n",
    "    plt.xlabel('epoch')\n",
    "    plt.legend(['train', 'test'], loc='upper left')\n",
    "    plt.show()\n",
    "\n",
    "\n"
   ]
  },
  {
   "cell_type": "code",
   "execution_count": 6,
   "id": "7d3d8c65",
   "metadata": {},
   "outputs": [
    {
     "name": "stdout",
     "output_type": "stream",
     "text": [
      "534\n",
      "Epoch 1/30\n",
      "14/14 [==============================] - 1s 84ms/step - loss: 71.4866 - val_loss: 48.1404\n",
      "Epoch 2/30\n",
      "14/14 [==============================] - 0s 6ms/step - loss: 66.4050 - val_loss: 43.7477\n",
      "Epoch 3/30\n",
      "14/14 [==============================] - 0s 7ms/step - loss: 60.4938 - val_loss: 38.0353\n",
      "Epoch 4/30\n",
      "14/14 [==============================] - 0s 5ms/step - loss: 55.1727 - val_loss: 34.3492\n",
      "Epoch 5/30\n",
      "14/14 [==============================] - 0s 5ms/step - loss: 51.3673 - val_loss: 31.3758\n",
      "Epoch 6/30\n",
      "14/14 [==============================] - 0s 4ms/step - loss: 47.9911 - val_loss: 28.5389\n",
      "Epoch 7/30\n",
      "14/14 [==============================] - 0s 4ms/step - loss: 44.3300 - val_loss: 25.3260\n",
      "Epoch 8/30\n",
      "14/14 [==============================] - 0s 4ms/step - loss: 40.1708 - val_loss: 21.9306\n",
      "Epoch 9/30\n",
      "14/14 [==============================] - 0s 4ms/step - loss: 35.2456 - val_loss: 17.8375\n",
      "Epoch 10/30\n",
      "14/14 [==============================] - 0s 5ms/step - loss: 31.2827 - val_loss: 15.9482\n",
      "Epoch 11/30\n",
      "14/14 [==============================] - 0s 4ms/step - loss: 29.2908 - val_loss: 15.0798\n",
      "Epoch 12/30\n",
      "14/14 [==============================] - 0s 3ms/step - loss: 28.0196 - val_loss: 14.6923\n",
      "Epoch 13/30\n",
      "14/14 [==============================] - 0s 5ms/step - loss: 27.2036 - val_loss: 14.6305\n",
      "Epoch 14/30\n",
      "14/14 [==============================] - 0s 4ms/step - loss: 26.7342 - val_loss: 14.7222\n",
      "Epoch 15/30\n",
      "14/14 [==============================] - 0s 5ms/step - loss: 26.5134 - val_loss: 14.7293\n",
      "Epoch 16/30\n",
      "14/14 [==============================] - 0s 4ms/step - loss: 26.3301 - val_loss: 14.7576\n",
      "Epoch 17/30\n",
      "14/14 [==============================] - 0s 4ms/step - loss: 26.1834 - val_loss: 14.6923\n",
      "Epoch 18/30\n",
      "14/14 [==============================] - 0s 4ms/step - loss: 26.0397 - val_loss: 14.6231\n",
      "Epoch 19/30\n",
      "14/14 [==============================] - 0s 4ms/step - loss: 25.9378 - val_loss: 14.5962\n",
      "Epoch 20/30\n",
      "14/14 [==============================] - 0s 3ms/step - loss: 25.8543 - val_loss: 14.4953\n",
      "Epoch 21/30\n",
      "14/14 [==============================] - 0s 4ms/step - loss: 25.7573 - val_loss: 14.8125\n",
      "Epoch 22/30\n",
      "14/14 [==============================] - 0s 4ms/step - loss: 25.7987 - val_loss: 14.4981\n",
      "Epoch 23/30\n",
      "14/14 [==============================] - 0s 4ms/step - loss: 25.7333 - val_loss: 14.5627\n",
      "Epoch 24/30\n",
      "14/14 [==============================] - 0s 4ms/step - loss: 25.6364 - val_loss: 14.7317\n",
      "Epoch 25/30\n",
      "14/14 [==============================] - 0s 4ms/step - loss: 25.6270 - val_loss: 14.4798\n",
      "Epoch 26/30\n",
      "14/14 [==============================] - 0s 4ms/step - loss: 25.4617 - val_loss: 14.3365\n",
      "Epoch 27/30\n",
      "14/14 [==============================] - 0s 3ms/step - loss: 25.2429 - val_loss: 14.0312\n",
      "Epoch 28/30\n",
      "14/14 [==============================] - 0s 4ms/step - loss: 25.1986 - val_loss: 14.5182\n",
      "Epoch 29/30\n",
      "14/14 [==============================] - 0s 4ms/step - loss: 24.9804 - val_loss: 14.1291\n",
      "Epoch 30/30\n",
      "14/14 [==============================] - 0s 4ms/step - loss: 25.0146 - val_loss: 14.5223\n"
     ]
    },
    {
     "data": {
      "image/png": "[encoded data removed]",
      "text/plain": [
       "<Figure size 432x288 with 1 Axes>"
      ]
     },
     "metadata": {
      "needs_background": "light"
     },
     "output_type": "display_data"
    },
    {
     "name": "stdout",
     "output_type": "stream",
     "text": [
      "tf.Tensor(29.710790634155273, shape=(), dtype=float64)\n"
     ]
    }
   ],
   "source": [
    "# task 1\n",
    "train_df = pd.read_csv('hourly_wages_data.csv')\n",
    "print(len(train_df))\n",
    "\n",
    "training_data = train_df.sample(frac=0.9, random_state=25)\n",
    "testing_data = train_df.drop(training_data.index)\n",
    "\n",
    "train_X = training_data.drop(columns=['wage_per_hour'])\n",
    "train_y = training_data['wage_per_hour']\n",
    "\n",
    "test_X = testing_data.drop(columns=['wage_per_hour'])\n",
    "test_y = testing_data['wage_per_hour']\n",
    "\n",
    "model = Sequential()\n",
    "\n",
    "n_cols = train_X.shape[1]\n",
    "\n",
    "model.add(Dense(10, activation='relu', input_shape=(n_cols,)))\n",
    "model.add(Dense(10, activation='sigmoid'))\n",
    "model.add(Dense(10, activation='relu'))\n",
    "model.add(Dense(1))\n",
    "\n",
    "loss = MeanSquaredError()\n",
    "optim = RMSprop()\n",
    "model.compile(optimizer=optim,\n",
    "              loss=loss)\n",
    "\n",
    "early_stopping_monitor = EarlyStopping(patience=8)\n",
    "history = model.fit(train_X, train_y, validation_split=0.07, epochs=30, callbacks=[early_stopping_monitor])\n",
    "plot_history(history)\n",
    "test_y_preds = model.predict(test_X)\n",
    "print(loss(test_y_preds, test_y))\n",
    "\n",
    "\n"
   ]
  },
  {
   "cell_type": "code",
   "execution_count": 7,
   "id": "24ed2b94",
   "metadata": {},
   "outputs": [
    {
     "name": "stdout",
     "output_type": "stream",
     "text": [
      "Epoch 1/30\n",
      " 1/18 [>.............................] - ETA: 0s - loss: 0.6734 - accuracy: 0.7188WARNING:tensorflow:Callbacks method `on_test_batch_end` is slow compared to the batch time (batch time: 0.0000s vs `on_test_batch_end` time: 0.0010s). Check your callbacks.\n",
      "18/18 [==============================] - 0s 19ms/step - loss: 0.6858 - accuracy: 0.6467 - val_loss: 0.6366 - val_accuracy: 0.6835\n",
      "Epoch 2/30\n",
      "18/18 [==============================] - 0s 2ms/step - loss: 0.6728 - accuracy: 0.6467 - val_loss: 0.6320 - val_accuracy: 0.6835\n",
      "Epoch 3/30\n",
      "18/18 [==============================] - 0s 2ms/step - loss: 0.6686 - accuracy: 0.6467 - val_loss: 0.6229 - val_accuracy: 0.6835\n",
      "Epoch 4/30\n",
      "18/18 [==============================] - 0s 2ms/step - loss: 0.6607 - accuracy: 0.6467 - val_loss: 0.6286 - val_accuracy: 0.6835\n",
      "Epoch 5/30\n",
      "18/18 [==============================] - 0s 5ms/step - loss: 0.6543 - accuracy: 0.6467 - val_loss: 0.6285 - val_accuracy: 0.6835\n",
      "Epoch 6/30\n",
      "18/18 [==============================] - 0s 4ms/step - loss: 0.6486 - accuracy: 0.6467 - val_loss: 0.6218 - val_accuracy: 0.6835\n",
      "Epoch 7/30\n",
      "18/18 [==============================] - 0s 3ms/step - loss: 0.6462 - accuracy: 0.6467 - val_loss: 0.6120 - val_accuracy: 0.6835\n",
      "Epoch 8/30\n",
      "18/18 [==============================] - 0s 3ms/step - loss: 0.6447 - accuracy: 0.6467 - val_loss: 0.6250 - val_accuracy: 0.6835\n",
      "Epoch 9/30\n",
      "18/18 [==============================] - 0s 4ms/step - loss: 0.6449 - accuracy: 0.6486 - val_loss: 0.6134 - val_accuracy: 0.6835\n",
      "Epoch 10/30\n",
      "18/18 [==============================] - 0s 4ms/step - loss: 0.6408 - accuracy: 0.6467 - val_loss: 0.6091 - val_accuracy: 0.6835\n",
      "Epoch 11/30\n",
      "18/18 [==============================] - 0s 3ms/step - loss: 0.6384 - accuracy: 0.6486 - val_loss: 0.6076 - val_accuracy: 0.6835\n",
      "Epoch 12/30\n",
      "18/18 [==============================] - 0s 4ms/step - loss: 0.6371 - accuracy: 0.6486 - val_loss: 0.6034 - val_accuracy: 0.6763\n",
      "Epoch 13/30\n",
      "18/18 [==============================] - 0s 3ms/step - loss: 0.6351 - accuracy: 0.6522 - val_loss: 0.6096 - val_accuracy: 0.6763\n",
      "Epoch 14/30\n",
      "18/18 [==============================] - 0s 3ms/step - loss: 0.6353 - accuracy: 0.6522 - val_loss: 0.6016 - val_accuracy: 0.6763\n",
      "Epoch 15/30\n",
      "18/18 [==============================] - 0s 3ms/step - loss: 0.6343 - accuracy: 0.6486 - val_loss: 0.6022 - val_accuracy: 0.6763\n",
      "Epoch 16/30\n",
      "18/18 [==============================] - 0s 6ms/step - loss: 0.6329 - accuracy: 0.6504 - val_loss: 0.5997 - val_accuracy: 0.6763\n",
      "Epoch 17/30\n",
      "18/18 [==============================] - 0s 3ms/step - loss: 0.6299 - accuracy: 0.6504 - val_loss: 0.6004 - val_accuracy: 0.6763\n",
      "Epoch 18/30\n",
      "18/18 [==============================] - 0s 3ms/step - loss: 0.6310 - accuracy: 0.6504 - val_loss: 0.6028 - val_accuracy: 0.6763\n",
      "Epoch 19/30\n",
      "18/18 [==============================] - 0s 4ms/step - loss: 0.6292 - accuracy: 0.6522 - val_loss: 0.5931 - val_accuracy: 0.6763\n",
      "Epoch 20/30\n",
      "18/18 [==============================] - 0s 4ms/step - loss: 0.6276 - accuracy: 0.6504 - val_loss: 0.6043 - val_accuracy: 0.6619\n",
      "Epoch 21/30\n",
      "18/18 [==============================] - 0s 6ms/step - loss: 0.6266 - accuracy: 0.6486 - val_loss: 0.6006 - val_accuracy: 0.6619\n",
      "Epoch 22/30\n",
      "18/18 [==============================] - 0s 7ms/step - loss: 0.6236 - accuracy: 0.6558 - val_loss: 0.5874 - val_accuracy: 0.6619\n",
      "Epoch 23/30\n",
      "18/18 [==============================] - 0s 4ms/step - loss: 0.6230 - accuracy: 0.6558 - val_loss: 0.5893 - val_accuracy: 0.6691\n",
      "Epoch 24/30\n",
      "18/18 [==============================] - 0s 3ms/step - loss: 0.6176 - accuracy: 0.6576 - val_loss: 0.5870 - val_accuracy: 0.6547\n",
      "Epoch 25/30\n",
      "18/18 [==============================] - 0s 4ms/step - loss: 0.6171 - accuracy: 0.6630 - val_loss: 0.5928 - val_accuracy: 0.6547\n",
      "Epoch 26/30\n",
      "18/18 [==============================] - 0s 4ms/step - loss: 0.6161 - accuracy: 0.6594 - val_loss: 0.5874 - val_accuracy: 0.6547\n",
      "Epoch 27/30\n",
      "18/18 [==============================] - 0s 4ms/step - loss: 0.6156 - accuracy: 0.6649 - val_loss: 0.5905 - val_accuracy: 0.6547\n",
      "Epoch 28/30\n",
      "18/18 [==============================] - 0s 4ms/step - loss: 0.6145 - accuracy: 0.6649 - val_loss: 0.5985 - val_accuracy: 0.6475\n",
      "Epoch 29/30\n",
      "18/18 [==============================] - 0s 4ms/step - loss: 0.6141 - accuracy: 0.6594 - val_loss: 0.5823 - val_accuracy: 0.6619\n",
      "Epoch 30/30\n",
      "18/18 [==============================] - 0s 5ms/step - loss: 0.6109 - accuracy: 0.6594 - val_loss: 0.5837 - val_accuracy: 0.6619\n"
     ]
    },
    {
     "data": {
      "image/png": "[encoded data removed]",
      "text/plain": [
       "<Figure size 432x288 with 1 Axes>"
      ]
     },
     "metadata": {
      "needs_background": "light"
     },
     "output_type": "display_data"
    },
    {
     "data": {
      "image/png": "[encoded data removed]",
      "text/plain": [
       "<Figure size 432x288 with 1 Axes>"
      ]
     },
     "metadata": {
      "needs_background": "light"
     },
     "output_type": "display_data"
    },
    {
     "name": "stdout",
     "output_type": "stream",
     "text": [
      "tf.Tensor(6.75439, shape=(), dtype=float32)\n"
     ]
    }
   ],
   "source": [
    "# task 2\n",
    "train_df = pd.read_csv('diabetes_data.csv')\n",
    "\n",
    "data = np.array(train_df)\n",
    "pca = PCA(n_components=2)\n",
    "pca.fit(data)\n",
    "transformed = pca.transform(data)\n",
    "\n",
    "training_data = train_df.sample(frac=0.9, random_state=25)\n",
    "testing_data = train_df.drop(training_data.index)\n",
    "\n",
    "train_X = training_data.drop(columns=['diabetes'])\n",
    "train_y = to_categorical(training_data['diabetes'])\n",
    "\n",
    "test_X = testing_data.drop(columns=['diabetes'])\n",
    "test_y = to_categorical(testing_data['diabetes'])\n",
    "\n",
    "model = Sequential()\n",
    "n_cols = train_X.shape[1]\n",
    "\n",
    "model.add(Dense(10, activation='relu', input_shape=(n_cols,)))\n",
    "model.add(Dense(10, activation='relu'))\n",
    "model.add(Dense(10, activation='relu'))\n",
    "model.add(Dense(10, activation='sigmoid'))\n",
    "model.add(Dense(2, activation='softmax'))\n",
    "\n",
    "loss = CategoricalCrossentropy()\n",
    "optim = RMSprop()\n",
    "model.compile(optimizer=optim,\n",
    "loss=loss, metrics=['accuracy'])\n",
    "\n",
    "early_stopping_monitor = EarlyStopping(patience=9)\n",
    "history = model.fit(train_X, train_y, epochs=30, validation_split=0.2, callbacks=[])\n",
    "plot_history(history)\n",
    "test_y_preds = model.predict(test_X)\n",
    "print(loss(test_y_preds, test_y))"
   ]
  },
  {
   "cell_type": "code",
   "execution_count": 9,
   "id": "2a0eedfc",
   "metadata": {},
   "outputs": [
    {
     "name": "stdout",
     "output_type": "stream",
     "text": [
      "   Unnamed: 0  velocity  spinrate  swing_miss\n",
      "0           1        89      1600         4.8\n",
      "1           2        90      1600         1.9\n",
      "2           3        91      1600         7.9\n",
      "3           4        93      1600         1.8\n",
      "4           5        94      1600         5.6\n",
      "5           6        88      1700         5.2\n",
      "6           7        89      1700         2.0\n",
      "7           8        90      1700         5.5\n",
      "8           9        91      1700         4.1\n",
      "9          10        92      1700         7.0\n",
      "168\n",
      "Epoch 1/30\n",
      "5/5 [==============================] - 0s 47ms/step - loss: 8437.0156 - val_loss: 8429.9131\n",
      "Epoch 2/30\n",
      "5/5 [==============================] - 0s 11ms/step - loss: 8410.7598 - val_loss: 8409.7207\n",
      "Epoch 3/30\n",
      "5/5 [==============================] - 0s 12ms/step - loss: 8391.6777 - val_loss: 8392.1055\n",
      "Epoch 4/30\n",
      "5/5 [==============================] - 0s 11ms/step - loss: 8374.4561 - val_loss: 8375.3125\n",
      "Epoch 5/30\n",
      "5/5 [==============================] - 0s 9ms/step - loss: 8357.8262 - val_loss: 8358.8965\n",
      "Epoch 6/30\n",
      "5/5 [==============================] - 0s 8ms/step - loss: 8341.4531 - val_loss: 8342.4678\n",
      "Epoch 7/30\n",
      "5/5 [==============================] - 0s 9ms/step - loss: 8325.0400 - val_loss: 8326.0312\n",
      "Epoch 8/30\n",
      "5/5 [==============================] - 0s 10ms/step - loss: 8308.5889 - val_loss: 8309.5088\n",
      "Epoch 9/30\n",
      "5/5 [==============================] - 0s 9ms/step - loss: 8292.0537 - val_loss: 8292.9072\n",
      "Epoch 10/30\n",
      "5/5 [==============================] - 0s 10ms/step - loss: 8275.4072 - val_loss: 8276.0918\n",
      "Epoch 11/30\n",
      "5/5 [==============================] - 0s 13ms/step - loss: 8258.5537 - val_loss: 8259.1221\n",
      "Epoch 12/30\n",
      "5/5 [==============================] - 0s 12ms/step - loss: 8241.5361 - val_loss: 8241.9707\n",
      "Epoch 13/30\n",
      "5/5 [==============================] - 0s 13ms/step - loss: 8224.3477 - val_loss: 8224.6172\n",
      "Epoch 14/30\n",
      "5/5 [==============================] - 0s 11ms/step - loss: 8206.9531 - val_loss: 8207.2246\n",
      "Epoch 15/30\n",
      "5/5 [==============================] - 0s 10ms/step - loss: 8190.8276 - val_loss: 8193.3711\n",
      "Epoch 16/30\n",
      "5/5 [==============================] - 0s 12ms/step - loss: 8176.8945 - val_loss: 8179.2285\n",
      "Epoch 17/30\n",
      "5/5 [==============================] - 0s 11ms/step - loss: 8162.6865 - val_loss: 8164.8579\n",
      "Epoch 18/30\n",
      "5/5 [==============================] - 0s 8ms/step - loss: 8148.2534 - val_loss: 8150.2856\n",
      "Epoch 19/30\n",
      "5/5 [==============================] - 0s 10ms/step - loss: 8133.6055 - val_loss: 8135.4219\n",
      "Epoch 20/30\n",
      "5/5 [==============================] - 0s 11ms/step - loss: 8118.6748 - val_loss: 8120.2998\n",
      "Epoch 21/30\n",
      "5/5 [==============================] - 0s 8ms/step - loss: 8103.4912 - val_loss: 8104.9658\n",
      "Epoch 22/30\n",
      "5/5 [==============================] - 0s 13ms/step - loss: 8088.0947 - val_loss: 8089.4360\n",
      "Epoch 23/30\n",
      "5/5 [==============================] - 0s 10ms/step - loss: 8072.4937 - val_loss: 8073.6279\n",
      "Epoch 24/30\n",
      "5/5 [==============================] - 0s 10ms/step - loss: 8056.6226 - val_loss: 8057.5996\n",
      "Epoch 25/30\n",
      "5/5 [==============================] - 0s 9ms/step - loss: 8040.5303 - val_loss: 8041.3389\n",
      "Epoch 26/30\n",
      "5/5 [==============================] - 0s 12ms/step - loss: 8024.2109 - val_loss: 8024.8770\n",
      "Epoch 27/30\n",
      "5/5 [==============================] - 0s 10ms/step - loss: 8007.6650 - val_loss: 8008.0596\n",
      "Epoch 28/30\n",
      "5/5 [==============================] - ETA: 0s - loss: 7996.22 - 0s 10ms/step - loss: 7990.8008 - val_loss: 7991.0811\n",
      "Epoch 29/30\n",
      "5/5 [==============================] - 0s 14ms/step - loss: 7973.7705 - val_loss: 7973.8989\n",
      "Epoch 30/30\n",
      "5/5 [==============================] - 0s 12ms/step - loss: 7956.5269 - val_loss: 7956.5283\n"
     ]
    },
    {
     "data": {
      "image/png": "[encoded data removed]",
      "text/plain": [
       "<Figure size 432x288 with 1 Axes>"
      ]
     },
     "metadata": {
      "needs_background": "light"
     },
     "output_type": "display_data"
    },
    {
     "name": "stdout",
     "output_type": "stream",
     "text": [
      "tf.Tensor(8166, shape=(), dtype=int64)\n"
     ]
    }
   ],
   "source": [
    "# task 3\n",
    "train_df = pd.read_csv('spinrates.csv')\n",
    "print(train_df.head(10))\n",
    "print(len(train_df))\n",
    "\n",
    "training_data = train_df.sample(frac=0.9, random_state=25)\n",
    "testing_data = train_df.drop(training_data.index)\n",
    "\n",
    "train_X = training_data.drop(columns=['velocity'])\n",
    "train_y = training_data['velocity']\n",
    "\n",
    "test_X = testing_data.drop(columns=['velocity'])\n",
    "test_y = testing_data['velocity']\n",
    "\n",
    "model = Sequential()\n",
    "\n",
    "n_cols = train_X.shape[1]\n",
    "\n",
    "model.add(Dense(10, activation='relu', input_shape=(n_cols,)))\n",
    "model.add(Dense(10, activation='sigmoid'))\n",
    "model.add(Dense(10, activation='relu'))\n",
    "model.add(Dense(1))\n",
    "\n",
    "loss = MeanSquaredError()\n",
    "optim = RMSprop()\n",
    "model.compile(optimizer=optim,\n",
    "              loss=loss)\n",
    "\n",
    "early_stopping_monitor = EarlyStopping(patience=3)\n",
    "history = model.fit(train_X, train_y, validation_split=0.07, epochs=30, callbacks=[early_stopping_monitor])\n",
    "plot_history(history)\n",
    "test_y_preds = model.predict(test_X)\n",
    "print(loss(test_y_preds, test_y))"
   ]
  },
  {
   "cell_type": "code",
   "execution_count": null,
   "id": "46c0a7bf",
   "metadata": {},
   "outputs": [],
   "source": []
  },
  {
   "cell_type": "code",
   "execution_count": null,
   "id": "145ad272",
   "metadata": {},
   "outputs": [],
   "source": []
  },
  {
   "cell_type": "code",
   "execution_count": null,
   "id": "82a33c5c",
   "metadata": {},
   "outputs": [],
   "source": []
  },
  {
   "cell_type": "code",
   "execution_count": null,
   "id": "ed967fb7",
   "metadata": {},
   "outputs": [],
   "source": []
  }
 ],
 "metadata": {
  "kernelspec": {
   "display_name": "Python 3 (ipykernel)",
   "language": "python",
   "name": "python3"
  },
  "language_info": {
   "codemirror_mode": {
    "name": "ipython",
    "version": 3
   },
   "file_extension": ".py",
   "mimetype": "text/x-python",
   "name": "python",
   "nbconvert_exporter": "python",
   "pygments_lexer": "ipython3",
   "version": "3.8.11"
  }
 },
 "nbformat": 4,
 "nbformat_minor": 5
}
