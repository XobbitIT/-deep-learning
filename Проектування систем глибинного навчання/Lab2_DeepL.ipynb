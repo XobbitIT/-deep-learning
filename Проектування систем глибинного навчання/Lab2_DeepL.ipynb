{
 "cells": [
  {
   "cell_type": "code",
   "execution_count": 2,
   "metadata": {
    "id": "27iMwnB6uQle"
   },
   "outputs": [],
   "source": [
    "import numpy as np\n",
    "import pandas as pd\n",
    "import seaborn as sns\n",
    "import matplotlib.pyplot as plt\n",
    "import warnings\n",
    "\n",
    "warnings.filterwarnings('ignore')\n",
    "\n",
    "import os"
   ]
  },
  {
   "cell_type": "code",
   "execution_count": 3,
   "metadata": {
    "colab": {
     "base_uri": "https://localhost:8080/",
     "height": 270
    },
    "id": "0xkMVonAysJv",
    "outputId": "5dce1cec-dcac-4cc2-b8bd-a8010001baff"
   },
   "outputs": [
    {
     "name": "stdout",
     "output_type": "stream",
     "text": [
      "(42000, 785)\n"
     ]
    },
    {
     "data": {
      "text/html": [
       "<div>\n",
       "<style scoped>\n",
       "    .dataframe tbody tr th:only-of-type {\n",
       "        vertical-align: middle;\n",
       "    }\n",
       "\n",
       "    .dataframe tbody tr th {\n",
       "        vertical-align: top;\n",
       "    }\n",
       "\n",
       "    .dataframe thead th {\n",
       "        text-align: right;\n",
       "    }\n",
       "</style>\n",
       "<table border=\"1\" class=\"dataframe\">\n",
       "  <thead>\n",
       "    <tr style=\"text-align: right;\">\n",
       "      <th></th>\n",
       "      <th>label</th>\n",
       "      <th>pixel0</th>\n",
       "      <th>pixel1</th>\n",
       "      <th>pixel2</th>\n",
       "      <th>pixel3</th>\n",
       "      <th>pixel4</th>\n",
       "      <th>pixel5</th>\n",
       "      <th>pixel6</th>\n",
       "      <th>pixel7</th>\n",
       "      <th>pixel8</th>\n",
       "      <th>...</th>\n",
       "      <th>pixel774</th>\n",
       "      <th>pixel775</th>\n",
       "      <th>pixel776</th>\n",
       "      <th>pixel777</th>\n",
       "      <th>pixel778</th>\n",
       "      <th>pixel779</th>\n",
       "      <th>pixel780</th>\n",
       "      <th>pixel781</th>\n",
       "      <th>pixel782</th>\n",
       "      <th>pixel783</th>\n",
       "    </tr>\n",
       "  </thead>\n",
       "  <tbody>\n",
       "    <tr>\n",
       "      <th>0</th>\n",
       "      <td>1</td>\n",
       "      <td>0</td>\n",
       "      <td>0</td>\n",
       "      <td>0</td>\n",
       "      <td>0</td>\n",
       "      <td>0</td>\n",
       "      <td>0</td>\n",
       "      <td>0</td>\n",
       "      <td>0</td>\n",
       "      <td>0</td>\n",
       "      <td>...</td>\n",
       "      <td>0</td>\n",
       "      <td>0</td>\n",
       "      <td>0</td>\n",
       "      <td>0</td>\n",
       "      <td>0</td>\n",
       "      <td>0</td>\n",
       "      <td>0</td>\n",
       "      <td>0</td>\n",
       "      <td>0</td>\n",
       "      <td>0</td>\n",
       "    </tr>\n",
       "    <tr>\n",
       "      <th>1</th>\n",
       "      <td>0</td>\n",
       "      <td>0</td>\n",
       "      <td>0</td>\n",
       "      <td>0</td>\n",
       "      <td>0</td>\n",
       "      <td>0</td>\n",
       "      <td>0</td>\n",
       "      <td>0</td>\n",
       "      <td>0</td>\n",
       "      <td>0</td>\n",
       "      <td>...</td>\n",
       "      <td>0</td>\n",
       "      <td>0</td>\n",
       "      <td>0</td>\n",
       "      <td>0</td>\n",
       "      <td>0</td>\n",
       "      <td>0</td>\n",
       "      <td>0</td>\n",
       "      <td>0</td>\n",
       "      <td>0</td>\n",
       "      <td>0</td>\n",
       "    </tr>\n",
       "    <tr>\n",
       "      <th>2</th>\n",
       "      <td>1</td>\n",
       "      <td>0</td>\n",
       "      <td>0</td>\n",
       "      <td>0</td>\n",
       "      <td>0</td>\n",
       "      <td>0</td>\n",
       "      <td>0</td>\n",
       "      <td>0</td>\n",
       "      <td>0</td>\n",
       "      <td>0</td>\n",
       "      <td>...</td>\n",
       "      <td>0</td>\n",
       "      <td>0</td>\n",
       "      <td>0</td>\n",
       "      <td>0</td>\n",
       "      <td>0</td>\n",
       "      <td>0</td>\n",
       "      <td>0</td>\n",
       "      <td>0</td>\n",
       "      <td>0</td>\n",
       "      <td>0</td>\n",
       "    </tr>\n",
       "    <tr>\n",
       "      <th>3</th>\n",
       "      <td>4</td>\n",
       "      <td>0</td>\n",
       "      <td>0</td>\n",
       "      <td>0</td>\n",
       "      <td>0</td>\n",
       "      <td>0</td>\n",
       "      <td>0</td>\n",
       "      <td>0</td>\n",
       "      <td>0</td>\n",
       "      <td>0</td>\n",
       "      <td>...</td>\n",
       "      <td>0</td>\n",
       "      <td>0</td>\n",
       "      <td>0</td>\n",
       "      <td>0</td>\n",
       "      <td>0</td>\n",
       "      <td>0</td>\n",
       "      <td>0</td>\n",
       "      <td>0</td>\n",
       "      <td>0</td>\n",
       "      <td>0</td>\n",
       "    </tr>\n",
       "    <tr>\n",
       "      <th>4</th>\n",
       "      <td>0</td>\n",
       "      <td>0</td>\n",
       "      <td>0</td>\n",
       "      <td>0</td>\n",
       "      <td>0</td>\n",
       "      <td>0</td>\n",
       "      <td>0</td>\n",
       "      <td>0</td>\n",
       "      <td>0</td>\n",
       "      <td>0</td>\n",
       "      <td>...</td>\n",
       "      <td>0</td>\n",
       "      <td>0</td>\n",
       "      <td>0</td>\n",
       "      <td>0</td>\n",
       "      <td>0</td>\n",
       "      <td>0</td>\n",
       "      <td>0</td>\n",
       "      <td>0</td>\n",
       "      <td>0</td>\n",
       "      <td>0</td>\n",
       "    </tr>\n",
       "  </tbody>\n",
       "</table>\n",
       "<p>5 rows × 785 columns</p>\n",
       "</div>"
      ],
      "text/plain": [
       "   label  pixel0  pixel1  pixel2  pixel3  pixel4  pixel5  pixel6  pixel7  \\\n",
       "0      1       0       0       0       0       0       0       0       0   \n",
       "1      0       0       0       0       0       0       0       0       0   \n",
       "2      1       0       0       0       0       0       0       0       0   \n",
       "3      4       0       0       0       0       0       0       0       0   \n",
       "4      0       0       0       0       0       0       0       0       0   \n",
       "\n",
       "   pixel8  ...  pixel774  pixel775  pixel776  pixel777  pixel778  pixel779  \\\n",
       "0       0  ...         0         0         0         0         0         0   \n",
       "1       0  ...         0         0         0         0         0         0   \n",
       "2       0  ...         0         0         0         0         0         0   \n",
       "3       0  ...         0         0         0         0         0         0   \n",
       "4       0  ...         0         0         0         0         0         0   \n",
       "\n",
       "   pixel780  pixel781  pixel782  pixel783  \n",
       "0         0         0         0         0  \n",
       "1         0         0         0         0  \n",
       "2         0         0         0         0  \n",
       "3         0         0         0         0  \n",
       "4         0         0         0         0  \n",
       "\n",
       "[5 rows x 785 columns]"
      ]
     },
     "execution_count": 3,
     "metadata": {},
     "output_type": "execute_result"
    }
   ],
   "source": [
    "train = pd.read_csv('train.csv')\n",
    "print(train.shape)\n",
    "train.head()"
   ]
  },
  {
   "cell_type": "code",
   "execution_count": 4,
   "metadata": {
    "colab": {
     "base_uri": "https://localhost:8080/",
     "height": 270
    },
    "id": "EC3iZc3q0wJQ",
    "outputId": "b861c563-acb3-4bb8-d156-db5e612aa3d4"
   },
   "outputs": [
    {
     "name": "stdout",
     "output_type": "stream",
     "text": [
      "(28000, 784)\n"
     ]
    },
    {
     "data": {
      "text/html": [
       "<div>\n",
       "<style scoped>\n",
       "    .dataframe tbody tr th:only-of-type {\n",
       "        vertical-align: middle;\n",
       "    }\n",
       "\n",
       "    .dataframe tbody tr th {\n",
       "        vertical-align: top;\n",
       "    }\n",
       "\n",
       "    .dataframe thead th {\n",
       "        text-align: right;\n",
       "    }\n",
       "</style>\n",
       "<table border=\"1\" class=\"dataframe\">\n",
       "  <thead>\n",
       "    <tr style=\"text-align: right;\">\n",
       "      <th></th>\n",
       "      <th>pixel0</th>\n",
       "      <th>pixel1</th>\n",
       "      <th>pixel2</th>\n",
       "      <th>pixel3</th>\n",
       "      <th>pixel4</th>\n",
       "      <th>pixel5</th>\n",
       "      <th>pixel6</th>\n",
       "      <th>pixel7</th>\n",
       "      <th>pixel8</th>\n",
       "      <th>pixel9</th>\n",
       "      <th>...</th>\n",
       "      <th>pixel774</th>\n",
       "      <th>pixel775</th>\n",
       "      <th>pixel776</th>\n",
       "      <th>pixel777</th>\n",
       "      <th>pixel778</th>\n",
       "      <th>pixel779</th>\n",
       "      <th>pixel780</th>\n",
       "      <th>pixel781</th>\n",
       "      <th>pixel782</th>\n",
       "      <th>pixel783</th>\n",
       "    </tr>\n",
       "  </thead>\n",
       "  <tbody>\n",
       "    <tr>\n",
       "      <th>0</th>\n",
       "      <td>0</td>\n",
       "      <td>0</td>\n",
       "      <td>0</td>\n",
       "      <td>0</td>\n",
       "      <td>0</td>\n",
       "      <td>0</td>\n",
       "      <td>0</td>\n",
       "      <td>0</td>\n",
       "      <td>0</td>\n",
       "      <td>0</td>\n",
       "      <td>...</td>\n",
       "      <td>0</td>\n",
       "      <td>0</td>\n",
       "      <td>0</td>\n",
       "      <td>0</td>\n",
       "      <td>0</td>\n",
       "      <td>0</td>\n",
       "      <td>0</td>\n",
       "      <td>0</td>\n",
       "      <td>0</td>\n",
       "      <td>0</td>\n",
       "    </tr>\n",
       "    <tr>\n",
       "      <th>1</th>\n",
       "      <td>0</td>\n",
       "      <td>0</td>\n",
       "      <td>0</td>\n",
       "      <td>0</td>\n",
       "      <td>0</td>\n",
       "      <td>0</td>\n",
       "      <td>0</td>\n",
       "      <td>0</td>\n",
       "      <td>0</td>\n",
       "      <td>0</td>\n",
       "      <td>...</td>\n",
       "      <td>0</td>\n",
       "      <td>0</td>\n",
       "      <td>0</td>\n",
       "      <td>0</td>\n",
       "      <td>0</td>\n",
       "      <td>0</td>\n",
       "      <td>0</td>\n",
       "      <td>0</td>\n",
       "      <td>0</td>\n",
       "      <td>0</td>\n",
       "    </tr>\n",
       "    <tr>\n",
       "      <th>2</th>\n",
       "      <td>0</td>\n",
       "      <td>0</td>\n",
       "      <td>0</td>\n",
       "      <td>0</td>\n",
       "      <td>0</td>\n",
       "      <td>0</td>\n",
       "      <td>0</td>\n",
       "      <td>0</td>\n",
       "      <td>0</td>\n",
       "      <td>0</td>\n",
       "      <td>...</td>\n",
       "      <td>0</td>\n",
       "      <td>0</td>\n",
       "      <td>0</td>\n",
       "      <td>0</td>\n",
       "      <td>0</td>\n",
       "      <td>0</td>\n",
       "      <td>0</td>\n",
       "      <td>0</td>\n",
       "      <td>0</td>\n",
       "      <td>0</td>\n",
       "    </tr>\n",
       "    <tr>\n",
       "      <th>3</th>\n",
       "      <td>0</td>\n",
       "      <td>0</td>\n",
       "      <td>0</td>\n",
       "      <td>0</td>\n",
       "      <td>0</td>\n",
       "      <td>0</td>\n",
       "      <td>0</td>\n",
       "      <td>0</td>\n",
       "      <td>0</td>\n",
       "      <td>0</td>\n",
       "      <td>...</td>\n",
       "      <td>0</td>\n",
       "      <td>0</td>\n",
       "      <td>0</td>\n",
       "      <td>0</td>\n",
       "      <td>0</td>\n",
       "      <td>0</td>\n",
       "      <td>0</td>\n",
       "      <td>0</td>\n",
       "      <td>0</td>\n",
       "      <td>0</td>\n",
       "    </tr>\n",
       "    <tr>\n",
       "      <th>4</th>\n",
       "      <td>0</td>\n",
       "      <td>0</td>\n",
       "      <td>0</td>\n",
       "      <td>0</td>\n",
       "      <td>0</td>\n",
       "      <td>0</td>\n",
       "      <td>0</td>\n",
       "      <td>0</td>\n",
       "      <td>0</td>\n",
       "      <td>0</td>\n",
       "      <td>...</td>\n",
       "      <td>0</td>\n",
       "      <td>0</td>\n",
       "      <td>0</td>\n",
       "      <td>0</td>\n",
       "      <td>0</td>\n",
       "      <td>0</td>\n",
       "      <td>0</td>\n",
       "      <td>0</td>\n",
       "      <td>0</td>\n",
       "      <td>0</td>\n",
       "    </tr>\n",
       "  </tbody>\n",
       "</table>\n",
       "<p>5 rows × 784 columns</p>\n",
       "</div>"
      ],
      "text/plain": [
       "   pixel0  pixel1  pixel2  pixel3  pixel4  pixel5  pixel6  pixel7  pixel8  \\\n",
       "0       0       0       0       0       0       0       0       0       0   \n",
       "1       0       0       0       0       0       0       0       0       0   \n",
       "2       0       0       0       0       0       0       0       0       0   \n",
       "3       0       0       0       0       0       0       0       0       0   \n",
       "4       0       0       0       0       0       0       0       0       0   \n",
       "\n",
       "   pixel9  ...  pixel774  pixel775  pixel776  pixel777  pixel778  pixel779  \\\n",
       "0       0  ...         0         0         0         0         0         0   \n",
       "1       0  ...         0         0         0         0         0         0   \n",
       "2       0  ...         0         0         0         0         0         0   \n",
       "3       0  ...         0         0         0         0         0         0   \n",
       "4       0  ...         0         0         0         0         0         0   \n",
       "\n",
       "   pixel780  pixel781  pixel782  pixel783  \n",
       "0         0         0         0         0  \n",
       "1         0         0         0         0  \n",
       "2         0         0         0         0  \n",
       "3         0         0         0         0  \n",
       "4         0         0         0         0  \n",
       "\n",
       "[5 rows x 784 columns]"
      ]
     },
     "execution_count": 4,
     "metadata": {},
     "output_type": "execute_result"
    }
   ],
   "source": [
    "test = pd.read_csv('test.csv')\n",
    "print(test.shape)\n",
    "test.head()"
   ]
  },
  {
   "cell_type": "code",
   "execution_count": 5,
   "metadata": {
    "colab": {
     "base_uri": "https://localhost:8080/",
     "height": 594
    },
    "id": "DOHQAr5E0wL1",
    "outputId": "cc366798-77f0-4dd9-fd19-d51ddd631cae"
   },
   "outputs": [
    {
     "data": {
      "text/plain": [
       "1    4684\n",
       "7    4401\n",
       "3    4351\n",
       "9    4188\n",
       "2    4177\n",
       "6    4137\n",
       "0    4132\n",
       "4    4072\n",
       "8    4063\n",
       "5    3795\n",
       "Name: label, dtype: int64"
      ]
     },
     "execution_count": 5,
     "metadata": {},
     "output_type": "execute_result"
    },
    {
     "data": {
      "image/png": "[encoded data removed]",
      "text/plain": [
       "<Figure size 1080x504 with 1 Axes>"
      ]
     },
     "metadata": {
      "needs_background": "light"
     },
     "output_type": "display_data"
    }
   ],
   "source": [
    "Y_train = train[\"label\"]\n",
    "X_train = train.drop(labels = [\"label\"],axis = 1)\n",
    "\n",
    "plt.figure(figsize=(15,7))\n",
    "g = sns.countplot(Y_train, palette=\"icefire\")\n",
    "plt.title(\"Number of digit classes\")\n",
    "Y_train.value_counts()"
   ]
  },
  {
   "cell_type": "code",
   "execution_count": 6,
   "metadata": {
    "colab": {
     "base_uri": "https://localhost:8080/",
     "height": 264
    },
    "id": "RoIXDws40wOm",
    "outputId": "3c8e8c38-f957-4926-ecff-493c475d21ca"
   },
   "outputs": [
    {
     "data": {
      "image/png": "[encoded data removed]",
      "text/plain": [
       "<Figure size 432x288 with 1 Axes>"
      ]
     },
     "metadata": {
      "needs_background": "light"
     },
     "output_type": "display_data"
    }
   ],
   "source": [
    "img = train.drop(labels = [\"label\"],axis = 1).iloc[0].to_numpy()\n",
    "img = img.reshape((28,28))\n",
    "plt.imshow(img,cmap='gray')\n",
    "plt.title(train.iloc[0,0])\n",
    "plt.axis(\"off\")\n",
    "plt.show()"
   ]
  },
  {
   "cell_type": "code",
   "execution_count": 7,
   "metadata": {
    "colab": {
     "base_uri": "https://localhost:8080/",
     "height": 264
    },
    "id": "afPv5asc0wQy",
    "outputId": "618f78eb-f9ce-487a-8084-c9812f8b8ab2"
   },
   "outputs": [
    {
     "data": {
      "image/png": "[encoded data removed]",
      "text/plain": [
       "<Figure size 432x288 with 1 Axes>"
      ]
     },
     "metadata": {
      "needs_background": "light"
     },
     "output_type": "display_data"
    }
   ],
   "source": [
    "img = train.drop(labels = [\"label\"],axis = 1).iloc[3].to_numpy()\n",
    "img = img.reshape((28,28))\n",
    "plt.imshow(img,cmap='gray')\n",
    "plt.title(train.iloc[3,0])\n",
    "plt.axis(\"off\")\n",
    "plt.show()"
   ]
  },
  {
   "cell_type": "code",
   "execution_count": 8,
   "metadata": {
    "colab": {
     "base_uri": "https://localhost:8080/"
    },
    "id": "wcqJYvr50wTo",
    "outputId": "bc814acf-bfc1-43cb-c2a6-6ffc8f2d71b0"
   },
   "outputs": [
    {
     "name": "stdout",
     "output_type": "stream",
     "text": [
      "x_train shape:  (42000, 784)\n",
      "test shape:  (28000, 784)\n",
      "x_train shape:  (42000, 28, 28, 1)\n",
      "test shape:  (28000, 28, 28, 1)\n"
     ]
    }
   ],
   "source": [
    "X_train = X_train / 255.0\n",
    "test = test / 255.0\n",
    "print(\"x_train shape: \",X_train.shape)\n",
    "print(\"test shape: \",test.shape)\n",
    "\n",
    "X_train = X_train.values.reshape(-1,28,28,1)\n",
    "test = test.values.reshape(-1,28,28,1)\n",
    "print(\"x_train shape: \",X_train.shape)\n",
    "print(\"test shape: \",test.shape)"
   ]
  },
  {
   "cell_type": "code",
   "execution_count": 9,
   "metadata": {
    "id": "1z1dp7ZI0wV9"
   },
   "outputs": [],
   "source": [
    "from keras.utils.np_utils import to_categorical \n",
    "Y_train = to_categorical(Y_train, num_classes = 10)"
   ]
  },
  {
   "cell_type": "code",
   "execution_count": 10,
   "metadata": {
    "colab": {
     "base_uri": "https://localhost:8080/"
    },
    "id": "Ms1Ts9xS0wYl",
    "outputId": "40e3e320-87c3-42f2-98fd-e30f254262f0"
   },
   "outputs": [
    {
     "name": "stdout",
     "output_type": "stream",
     "text": [
      "x_train shape (37800, 28, 28, 1)\n",
      "x_test shape (4200, 28, 28, 1)\n",
      "y_train shape (37800, 10)\n",
      "y_test shape (4200, 10)\n"
     ]
    }
   ],
   "source": [
    "from sklearn.model_selection import train_test_split\n",
    "X_train, X_val, Y_train, Y_val = train_test_split(X_train, Y_train, test_size = 0.1\n",
    ", random_state=2)\n",
    "print(\"x_train shape\",X_train.shape)\n",
    "print(\"x_test shape\",X_val.shape)\n",
    "print(\"y_train shape\",Y_train.shape)\n",
    "print(\"y_test shape\",Y_val.shape)"
   ]
  },
  {
   "cell_type": "code",
   "execution_count": 11,
   "metadata": {
    "colab": {
     "base_uri": "https://localhost:8080/",
     "height": 265
    },
    "id": "EnRaenPu0wbL",
    "outputId": "dabfc04b-6cf7-4cbb-8837-75a8cfb7a9f2"
   },
   "outputs": [
    {
     "data": {
      "image/png": "[encoded data removed]",
      "text/plain": [
       "<Figure size 432x288 with 1 Axes>"
      ]
     },
     "metadata": {
      "needs_background": "light"
     },
     "output_type": "display_data"
    }
   ],
   "source": [
    "plt.imshow(X_train[2][:,:,0],cmap='gray')\n",
    "plt.show()"
   ]
  },
  {
   "cell_type": "code",
   "execution_count": 12,
   "metadata": {
    "id": "vcuWcbaH0wd0"
   },
   "outputs": [],
   "source": [
    "import tensorflow as tf\n",
    "import itertools\n",
    "from sklearn.metrics import confusion_matrix\n",
    "from keras.utils.np_utils import to_categorical \n",
    "from keras.models import Sequential\n",
    "from keras.layers import Dense, Dropout, Flatten, Conv2D, MaxPool2D\n",
    "\n",
    "\n",
    "from keras.preprocessing.image import ImageDataGenerator\n",
    "from keras.callbacks import ReduceLROnPlateau\n",
    "\n",
    "model = Sequential()\n",
    "\n",
    "model.add(Conv2D(filters = 8, kernel_size = (5,5),padding = 'Same',\n",
    "activation ='relu', input_shape = (28,28,1)))\n",
    "model.add(MaxPool2D(pool_size=(2,2)))\n",
    "model.add(Dropout(0.25))\n",
    "\n",
    "\n",
    "model.add(Conv2D(filters = 16, kernel_size = (3,3),padding = 'Same',\n",
    "activation ='relu'))\n",
    "model.add(MaxPool2D(pool_size=(2,2), strides=(2,2)))\n",
    "model.add(Dropout(0.25))\n",
    "\n",
    "\n",
    "model.add(Flatten())\n",
    "model.add(Dense(256, activation = \"relu\"))\n",
    "model.add(Dropout(0.5))\n",
    "model.add(Dense(10, activation = \"softmax\"))"
   ]
  },
  {
   "cell_type": "code",
   "execution_count": 13,
   "metadata": {
    "id": "A4otPFx71aer"
   },
   "outputs": [],
   "source": [
    "optimizer = tf.keras.optimizers.Adam(lr=0.001, beta_1=0.9, beta_2=0.999)"
   ]
  },
  {
   "cell_type": "code",
   "execution_count": 14,
   "metadata": {
    "id": "zatePwIu1ahS"
   },
   "outputs": [],
   "source": [
    "model.compile(optimizer = optimizer , loss = \"categorical_crossentropy\", metrics=[\"accuracy\"])"
   ]
  },
  {
   "cell_type": "code",
   "execution_count": 15,
   "metadata": {
    "id": "0DOaNaWk1ajr"
   },
   "outputs": [],
   "source": [
    "epochs = 10 \n",
    "batch_size = 250"
   ]
  },
  {
   "cell_type": "code",
   "execution_count": 16,
   "metadata": {
    "id": "jM6__9zh1amZ"
   },
   "outputs": [],
   "source": [
    "datagen = ImageDataGenerator(\n",
    "  featurewise_center=False,\n",
    "  samplewise_center=False,\n",
    "  featurewise_std_normalization=False, \n",
    "  samplewise_std_normalization=False,\n",
    "  zca_whitening=False, \n",
    "  rotation_range=0.5,\n",
    "  zoom_range = 0.5, \n",
    "  width_shift_range=0.5, \n",
    "  height_shift_range=0.5, \n",
    "  horizontal_flip=False, \n",
    "  vertical_flip=False \n",
    ")\n",
    "datagen.fit(X_train)"
   ]
  },
  {
   "cell_type": "code",
   "execution_count": 17,
   "metadata": {
    "colab": {
     "base_uri": "https://localhost:8080/"
    },
    "id": "vcUDYmiD1apF",
    "outputId": "2c2ce00e-0c23-4643-fa54-99fcca2ebfa8"
   },
   "outputs": [
    {
     "name": "stdout",
     "output_type": "stream",
     "text": [
      "WARNING:tensorflow:From C:\\Users\\pavlo\\AppData\\Local\\Temp/ipykernel_19532/3005045806.py:2: Model.fit_generator (from tensorflow.python.keras.engine.training) is deprecated and will be removed in a future version.\n",
      "Instructions for updating:\n",
      "Please use Model.fit, which supports generators.\n",
      "Epoch 1/10\n",
      "151/151 [==============================] - 22s 142ms/step - loss: 2.1891 - accuracy: 0.1827 - val_loss: 1.7593 - val_accuracy: 0.3621\n",
      "Epoch 2/10\n",
      "151/151 [==============================] - 20s 135ms/step - loss: 1.8941 - accuracy: 0.3244 - val_loss: 1.1912 - val_accuracy: 0.6300\n",
      "Epoch 3/10\n",
      "151/151 [==============================] - 20s 136ms/step - loss: 1.6869 - accuracy: 0.4133 - val_loss: 0.7555 - val_accuracy: 0.8174\n",
      "Epoch 4/10\n",
      "151/151 [==============================] - 21s 139ms/step - loss: 1.5705 - accuracy: 0.4592 - val_loss: 0.5911 - val_accuracy: 0.8633\n",
      "Epoch 5/10\n",
      "151/151 [==============================] - 21s 138ms/step - loss: 1.4998 - accuracy: 0.4850 - val_loss: 0.4810 - val_accuracy: 0.8860\n",
      "Epoch 6/10\n",
      "151/151 [==============================] - 21s 136ms/step - loss: 1.4504 - accuracy: 0.5031 - val_loss: 0.4222 - val_accuracy: 0.8931\n",
      "Epoch 7/10\n",
      "151/151 [==============================] - 21s 136ms/step - loss: 1.4063 - accuracy: 0.5206 - val_loss: 0.3993 - val_accuracy: 0.8931\n",
      "Epoch 8/10\n",
      "151/151 [==============================] - 21s 139ms/step - loss: 1.3615 - accuracy: 0.5366 - val_loss: 0.3284 - val_accuracy: 0.9148\n",
      "Epoch 9/10\n",
      "151/151 [==============================] - 21s 139ms/step - loss: 1.3342 - accuracy: 0.5443 - val_loss: 0.3036 - val_accuracy: 0.9233\n",
      "Epoch 10/10\n",
      "151/151 [==============================] - 21s 136ms/step - loss: 1.3048 - accuracy: 0.5562 - val_loss: 0.2998 - val_accuracy: 0.9217\n"
     ]
    }
   ],
   "source": [
    "history = model.fit_generator(datagen.flow(X_train,Y_train, batch_size=batch_size),\n",
    "epochs = epochs, validation_data = (X_val,Y_val), steps_per_epoch=X_train.shape[0] // batch_size)"
   ]
  },
  {
   "cell_type": "code",
   "execution_count": 18,
   "metadata": {
    "colab": {
     "base_uri": "https://localhost:8080/",
     "height": 295
    },
    "id": "jlEn_seZ1arQ",
    "outputId": "11d82e96-4214-46e6-dfa2-22bf9e2cc66c"
   },
   "outputs": [
    {
     "data": {
      "image/png": "[encoded data removed]",
      "text/plain": [
       "<Figure size 432x288 with 1 Axes>"
      ]
     },
     "metadata": {
      "needs_background": "light"
     },
     "output_type": "display_data"
    }
   ],
   "source": [
    "plt.plot(history.history['val_loss'], color='b', label=\"validation loss\")\n",
    "plt.title(\"Test Loss\")\n",
    "plt.xlabel(\"Number of Epochs\")\n",
    "plt.ylabel(\"Loss\")\n",
    "plt.legend()\n",
    "plt.show()"
   ]
  },
  {
   "cell_type": "code",
   "execution_count": 19,
   "metadata": {
    "colab": {
     "base_uri": "https://localhost:8080/",
     "height": 513
    },
    "id": "LBpqfJ471at3",
    "outputId": "396e3c97-9d3f-43b9-8518-df058c0fff95"
   },
   "outputs": [
    {
     "data": {
      "image/png": "[encoded data removed]",
      "text/plain": [
       "<Figure size 576x576 with 2 Axes>"
      ]
     },
     "metadata": {
      "needs_background": "light"
     },
     "output_type": "display_data"
    }
   ],
   "source": [
    "\n",
    "import seaborn as sns\n",
    "\n",
    "Y_pred = model.predict(X_val)\n",
    "\n",
    "Y_pred_classes = np.argmax(Y_pred,axis = 1)\n",
    "\n",
    "Y_true = np.argmax(Y_val,axis = 1)\n",
    "\n",
    "confusion_mtx = confusion_matrix(Y_true, Y_pred_classes)\n",
    "\n",
    "f,ax = plt.subplots(figsize=(8, 8))\n",
    "sns.heatmap(confusion_mtx, annot=True, linewidths=0.01,cmap=\"Greens\",linecolor=\"gray\", fmt= '.1f',ax=ax)\n",
    "plt.xlabel(\"Predicted Label\")\n",
    "plt.ylabel(\"True Label\")\n",
    "plt.title(\"Confusion Matrix\")\n",
    "plt.show()"
   ]
  },
  {
   "cell_type": "markdown",
   "metadata": {
    "id": "5UXh84tmhW-x"
   },
   "source": [
    "# Experiment with mode convolutional layers"
   ]
  },
  {
   "cell_type": "code",
   "execution_count": 20,
   "metadata": {
    "id": "TUvNY8WShSYl"
   },
   "outputs": [],
   "source": [
    "\n",
    "model1 = Sequential()\n",
    "\n",
    "model1.add(Conv2D(filters = 8, kernel_size = (5,5),padding = 'Same',\n",
    "activation ='relu', input_shape = (28,28,1)))\n",
    "model1.add(MaxPool2D(pool_size=(2,2)))\n",
    "model1.add(Dropout(0.25))\n",
    "\n",
    "# Second conv layer\n",
    "model1.add(Conv2D(filters = 16, kernel_size = (4,3),padding = 'Same',\n",
    "activation ='relu'))\n",
    "model1.add(MaxPool2D(pool_size=(2,2), strides=(2,2)))\n",
    "model1.add(Dropout(0.25))\n",
    "\n",
    "model1.add(Conv2D(filters = 16, kernel_size = (3,3),padding = 'Same',\n",
    "activation ='relu'))\n",
    "model1.add(MaxPool2D(pool_size=(2,2), strides=(2,2)))\n",
    "model1.add(Dropout(0.25))\n",
    "\n",
    "model1.add(Flatten())\n",
    "model1.add(Dense(256, activation = \"relu\"))\n",
    "model1.add(Dropout(0.5))\n",
    "model1.add(Dense(10, activation = \"softmax\"))"
   ]
  },
  {
   "cell_type": "markdown",
   "metadata": {
    "id": "b-61Pn4piyzA"
   },
   "source": [
    "For this example we will use:\n",
    "- Optimizer Nadam (Nesterov adaptive moment)\n",
    "- Different parameters in image generator:\n",
    "  - horizontal_flip=True (Flip images horizontally)\n",
    "  - vertical_flip=True (randomly flip images) \n",
    "  - rotation_range=0.6 (randomly rotate images in the range 5 degrees)\n",
    "  - featurewise_center=True"
   ]
  },
  {
   "cell_type": "code",
   "execution_count": 21,
   "metadata": {
    "id": "GTvq3q15hSbJ"
   },
   "outputs": [],
   "source": [
    "optimizer = tf.keras.optimizers.Nadam(lr=0.0001, beta_1=0.9, beta_2=0.999)\n",
    "model1.compile(optimizer = optimizer, loss = \"categorical_crossentropy\", metrics=[\"accuracy\"])"
   ]
  },
  {
   "cell_type": "code",
   "execution_count": 22,
   "metadata": {
    "id": "cOmXtPKMhSdq"
   },
   "outputs": [],
   "source": [
    "datagen = ImageDataGenerator(\n",
    "  featurewise_center=False,\n",
    "  samplewise_center=False, \n",
    "  featurewise_std_normalization=False, \n",
    "  samplewise_std_normalization=False, \n",
    "  zca_whitening=False, \n",
    "  rotation_range=0.6, \n",
    "  zoom_range = 0.5,\n",
    "  width_shift_range=0.5, \n",
    "  height_shift_range=0.5,\n",
    "  horizontal_flip=True, \n",
    "  vertical_flip=True \n",
    ") \n",
    "datagen.fit(X_train)"
   ]
  },
  {
   "cell_type": "code",
   "execution_count": 23,
   "metadata": {
    "colab": {
     "base_uri": "https://localhost:8080/"
    },
    "id": "BeOsQNBykuvj",
    "outputId": "5984c63d-2b76-4064-92e4-e6beb6364e44"
   },
   "outputs": [
    {
     "name": "stdout",
     "output_type": "stream",
     "text": [
      "Epoch 1/10\n",
      "151/151 [==============================] - 21s 141ms/step - loss: 1.8967 - accuracy: 0.3453 - val_loss: 0.6713 - val_accuracy: 0.8931\n",
      "Epoch 2/10\n",
      "151/151 [==============================] - 20s 136ms/step - loss: 1.7776 - accuracy: 0.3725 - val_loss: 0.7000 - val_accuracy: 0.8681\n",
      "Epoch 3/10\n",
      "151/151 [==============================] - 20s 134ms/step - loss: 1.7426 - accuracy: 0.3872 - val_loss: 0.7071 - val_accuracy: 0.8300\n",
      "Epoch 4/10\n",
      "151/151 [==============================] - 21s 139ms/step - loss: 1.7090 - accuracy: 0.3981 - val_loss: 0.6891 - val_accuracy: 0.8505\n",
      "Epoch 5/10\n",
      "151/151 [==============================] - 21s 140ms/step - loss: 1.6916 - accuracy: 0.4024 - val_loss: 0.6749 - val_accuracy: 0.8536\n",
      "Epoch 6/10\n",
      "151/151 [==============================] - 21s 136ms/step - loss: 1.6683 - accuracy: 0.4063 - val_loss: 0.6619 - val_accuracy: 0.8657\n",
      "Epoch 7/10\n",
      "151/151 [==============================] - 21s 136ms/step - loss: 1.6514 - accuracy: 0.4166 - val_loss: 0.6790 - val_accuracy: 0.8424\n",
      "Epoch 8/10\n",
      "151/151 [==============================] - 21s 138ms/step - loss: 1.6463 - accuracy: 0.4186 - val_loss: 0.6720 - val_accuracy: 0.8467\n",
      "Epoch 9/10\n",
      "151/151 [==============================] - 21s 137ms/step - loss: 1.6234 - accuracy: 0.4291 - val_loss: 0.6970 - val_accuracy: 0.7929\n",
      "Epoch 10/10\n",
      "151/151 [==============================] - 21s 138ms/step - loss: 1.6108 - accuracy: 0.4299 - val_loss: 0.6742 - val_accuracy: 0.8186\n"
     ]
    }
   ],
   "source": [
    "history = model.fit_generator(datagen.flow(X_train,Y_train, batch_size=batch_size),\n",
    "epochs = epochs, validation_data = (X_val,Y_val), steps_per_epoch=X_train.shape[0] // batch_size)"
   ]
  },
  {
   "cell_type": "markdown",
   "metadata": {
    "id": "LJCbEwaxn5DB"
   },
   "source": [
    "- Rectangular conv matrix\n",
    "- rotation_range=0.6\n",
    "- horizontal_flip=*True*\n",
    "- vertical_flip=True "
   ]
  },
  {
   "cell_type": "code",
   "execution_count": 24,
   "metadata": {
    "colab": {
     "base_uri": "https://localhost:8080/"
    },
    "id": "oURpOWanhSi-",
    "outputId": "a18ae119-d797-4f6d-cb43-9ec5da442a10"
   },
   "outputs": [
    {
     "name": "stdout",
     "output_type": "stream",
     "text": [
      "Epoch 1/10\n",
      "151/151 [==============================] - 24s 159ms/step - loss: 2.3096 - accuracy: 0.1004 - val_loss: 2.2977 - val_accuracy: 0.1288\n",
      "Epoch 2/10\n",
      "151/151 [==============================] - 22s 147ms/step - loss: 2.3001 - accuracy: 0.1119 - val_loss: 2.2941 - val_accuracy: 0.1086\n",
      "Epoch 3/10\n",
      "151/151 [==============================] - 22s 147ms/step - loss: 2.2959 - accuracy: 0.1198 - val_loss: 2.2879 - val_accuracy: 0.1183\n",
      "Epoch 4/10\n",
      "151/151 [==============================] - 22s 148ms/step - loss: 2.2898 - accuracy: 0.1314 - val_loss: 2.2735 - val_accuracy: 0.1855\n",
      "Epoch 5/10\n",
      "151/151 [==============================] - 22s 146ms/step - loss: 2.2788 - accuracy: 0.1528 - val_loss: 2.2426 - val_accuracy: 0.1950\n",
      "Epoch 6/10\n",
      "151/151 [==============================] - 22s 148ms/step - loss: 2.2557 - accuracy: 0.1670 - val_loss: 2.1773 - val_accuracy: 0.2019\n",
      "Epoch 7/10\n",
      "151/151 [==============================] - 23s 153ms/step - loss: 2.2228 - accuracy: 0.1759 - val_loss: 2.1105 - val_accuracy: 0.2129\n",
      "Epoch 8/10\n",
      "151/151 [==============================] - 22s 146ms/step - loss: 2.1879 - accuracy: 0.1863 - val_loss: 2.0686 - val_accuracy: 0.2174\n",
      "Epoch 9/10\n",
      "151/151 [==============================] - 23s 149ms/step - loss: 2.1614 - accuracy: 0.1941 - val_loss: 2.0243 - val_accuracy: 0.2312\n",
      "Epoch 10/10\n",
      "151/151 [==============================] - 22s 148ms/step - loss: 2.1430 - accuracy: 0.2025 - val_loss: 1.9751 - val_accuracy: 0.2779\n"
     ]
    }
   ],
   "source": [
    "history = model1.fit_generator(datagen.flow(X_train,Y_train, batch_size=batch_size),\n",
    "epochs = epochs, validation_data = (X_val,Y_val), steps_per_epoch=X_train.shape[0] // batch_size)"
   ]
  },
  {
   "cell_type": "code",
   "execution_count": 25,
   "metadata": {
    "colab": {
     "base_uri": "https://localhost:8080/",
     "height": 295
    },
    "id": "Qmo-wbHgku8D",
    "outputId": "9d80d1bf-6a74-4850-ea2f-3e053c6c0f93"
   },
   "outputs": [
    {
     "data": {
      "image/png": "[encoded data removed]",
      "text/plain": [
       "<Figure size 432x288 with 1 Axes>"
      ]
     },
     "metadata": {
      "needs_background": "light"
     },
     "output_type": "display_data"
    }
   ],
   "source": [
    "plt.plot(history.history['val_loss'], color='b', label=\"validation loss\")\n",
    "plt.title(\"Test Loss\")\n",
    "plt.xlabel(\"Number of Epochs\")\n",
    "plt.ylabel(\"Loss\")\n",
    "plt.legend()\n",
    "plt.show()"
   ]
  },
  {
   "cell_type": "markdown",
   "metadata": {
    "id": "_Iyhempfnt_I"
   },
   "source": [
    "- Rectangular conv matrix\n",
    "- vertical_flip=True\n",
    "- rotation_range=0.6"
   ]
  },
  {
   "cell_type": "code",
   "execution_count": 26,
   "metadata": {
    "colab": {
     "base_uri": "https://localhost:8080/"
    },
    "id": "6TbSfIJ6ku3F",
    "outputId": "4a931836-e080-471e-fe47-0ab1c4ecf1a3"
   },
   "outputs": [
    {
     "name": "stdout",
     "output_type": "stream",
     "text": [
      "Epoch 1/10\n",
      "151/151 [==============================] - 21s 140ms/step - loss: 1.6016 - accuracy: 0.4346 - val_loss: 0.6746 - val_accuracy: 0.8102\n",
      "Epoch 2/10\n",
      "151/151 [==============================] - 22s 146ms/step - loss: 1.5972 - accuracy: 0.4363 - val_loss: 0.6862 - val_accuracy: 0.8083\n",
      "Epoch 3/10\n",
      "151/151 [==============================] - 21s 137ms/step - loss: 1.5787 - accuracy: 0.4418 - val_loss: 0.6817 - val_accuracy: 0.8048\n",
      "Epoch 4/10\n",
      "151/151 [==============================] - 21s 140ms/step - loss: 1.5735 - accuracy: 0.4444 - val_loss: 0.6549 - val_accuracy: 0.8155\n",
      "Epoch 5/10\n",
      "151/151 [==============================] - 21s 136ms/step - loss: 1.5647 - accuracy: 0.4452 - val_loss: 0.6631 - val_accuracy: 0.7819\n",
      "Epoch 6/10\n",
      "151/151 [==============================] - 21s 141ms/step - loss: 1.5615 - accuracy: 0.4472 - val_loss: 0.6597 - val_accuracy: 0.8243\n",
      "Epoch 7/10\n",
      "151/151 [==============================] - 21s 139ms/step - loss: 1.5613 - accuracy: 0.4459 - val_loss: 0.6560 - val_accuracy: 0.8248\n",
      "Epoch 8/10\n",
      "151/151 [==============================] - 21s 136ms/step - loss: 1.5389 - accuracy: 0.4560 - val_loss: 0.6821 - val_accuracy: 0.8007\n",
      "Epoch 9/10\n",
      "151/151 [==============================] - 21s 139ms/step - loss: 1.5480 - accuracy: 0.4556 - val_loss: 0.6452 - val_accuracy: 0.8152\n",
      "Epoch 10/10\n",
      "151/151 [==============================] - 21s 139ms/step - loss: 1.5366 - accuracy: 0.4554 - val_loss: 0.6639 - val_accuracy: 0.8110\n"
     ]
    }
   ],
   "source": [
    "history = model.fit_generator(datagen.flow(X_train,Y_train, batch_size=batch_size),\n",
    "epochs = epochs, validation_data = (X_val,Y_val), steps_per_epoch=X_train.shape[0] // batch_size)"
   ]
  },
  {
   "cell_type": "markdown",
   "metadata": {
    "id": "Tee-P2j8noKP"
   },
   "source": [
    "- Rectangular conv matrix\n",
    "- featurewise_center=True"
   ]
  },
  {
   "cell_type": "code",
   "execution_count": 27,
   "metadata": {
    "colab": {
     "base_uri": "https://localhost:8080/"
    },
    "id": "Xu-anS0mkuzA",
    "outputId": "d1c53492-7e43-442d-b469-36d9183dd9d6"
   },
   "outputs": [
    {
     "name": "stdout",
     "output_type": "stream",
     "text": [
      "Epoch 1/10\n",
      "151/151 [==============================] - 21s 138ms/step - loss: 1.5363 - accuracy: 0.4570 - val_loss: 0.6806 - val_accuracy: 0.8002\n",
      "Epoch 2/10\n",
      "151/151 [==============================] - 20s 135ms/step - loss: 1.5321 - accuracy: 0.4611 - val_loss: 0.6692 - val_accuracy: 0.8090\n",
      "Epoch 3/10\n",
      "151/151 [==============================] - 21s 137ms/step - loss: 1.5157 - accuracy: 0.4667 - val_loss: 0.6550 - val_accuracy: 0.8202\n",
      "Epoch 4/10\n",
      "151/151 [==============================] - 21s 137ms/step - loss: 1.5117 - accuracy: 0.4655 - val_loss: 0.6216 - val_accuracy: 0.8188\n",
      "Epoch 5/10\n",
      "151/151 [==============================] - 21s 136ms/step - loss: 1.5148 - accuracy: 0.4691 - val_loss: 0.6391 - val_accuracy: 0.8171\n",
      "Epoch 6/10\n",
      "151/151 [==============================] - 21s 137ms/step - loss: 1.5089 - accuracy: 0.4672 - val_loss: 0.6302 - val_accuracy: 0.8262\n",
      "Epoch 7/10\n",
      "151/151 [==============================] - 21s 139ms/step - loss: 1.4966 - accuracy: 0.4705 - val_loss: 0.6317 - val_accuracy: 0.8024\n",
      "Epoch 8/10\n",
      "151/151 [==============================] - 21s 140ms/step - loss: 1.4906 - accuracy: 0.4747 - val_loss: 0.5982 - val_accuracy: 0.8381\n",
      "Epoch 9/10\n",
      "151/151 [==============================] - 21s 137ms/step - loss: 1.4872 - accuracy: 0.4763 - val_loss: 0.6039 - val_accuracy: 0.8481\n",
      "Epoch 10/10\n",
      "151/151 [==============================] - 21s 142ms/step - loss: 1.4900 - accuracy: 0.4758 - val_loss: 0.6097 - val_accuracy: 0.8386\n"
     ]
    }
   ],
   "source": [
    "history = model.fit_generator(datagen.flow(X_train,Y_train, batch_size=batch_size),\n",
    "epochs = epochs, validation_data = (X_val,Y_val), steps_per_epoch=X_train.shape[0] // batch_size)"
   ]
  },
  {
   "cell_type": "markdown",
   "metadata": {
    "id": "GvM9sSLDpFe_"
   },
   "source": [
    "# Conclusion:\n",
    "All tests were run on numbers dataset for 10 epochs.\n",
    "- Rectangular conv matrix performs worse, than square. Accuracy: 80%\n",
    "- Rotation also makes the accuracy worse, but is better because it is more universal. Accuracy: 52%\n",
    "- Featurewise_center performs the worse. Accuracy: 37%"
   ]
  },
  {
   "cell_type": "markdown",
   "metadata": {
    "id": "VhNOvE92jrmf"
   },
   "source": [
    "# Lenet-5"
   ]
  },
  {
   "cell_type": "code",
   "execution_count": 28,
   "metadata": {
    "id": "00VHK9u-0wgc"
   },
   "outputs": [],
   "source": [
    "model = Sequential()\n",
    "model.add(Conv2D(filters=32, kernel_size=(5,5), padding='same', activation='relu',\n",
    "input_shape=(28, 28, 1)))\n",
    "model.add(MaxPool2D(strides=2))\n",
    "model.add(Conv2D(filters=48, kernel_size=(5,5), padding='valid', activation='relu')\n",
    ")\n",
    "model.add(MaxPool2D(strides=2))\n",
    "model.add(Flatten())\n",
    "model.add(Dense(256, activation='relu'))\n",
    "model.add(Dense(84, activation='relu'))\n",
    "model.add(Dense(10, activation='softmax'))"
   ]
  },
  {
   "cell_type": "code",
   "execution_count": 29,
   "metadata": {
    "colab": {
     "base_uri": "https://localhost:8080/"
    },
    "id": "ZnpYPUz00wi1",
    "outputId": "53c0be06-d497-4144-a6ad-c58b0e161196"
   },
   "outputs": [
    {
     "name": "stdout",
     "output_type": "stream",
     "text": [
      "Model: \"sequential_2\"\n",
      "_________________________________________________________________\n",
      "Layer (type)                 Output Shape              Param #   \n",
      "=================================================================\n",
      "conv2d_5 (Conv2D)            (None, 28, 28, 32)        832       \n",
      "_________________________________________________________________\n",
      "max_pooling2d_5 (MaxPooling2 (None, 14, 14, 32)        0         \n",
      "_________________________________________________________________\n",
      "conv2d_6 (Conv2D)            (None, 10, 10, 48)        38448     \n",
      "_________________________________________________________________\n",
      "max_pooling2d_6 (MaxPooling2 (None, 5, 5, 48)          0         \n",
      "_________________________________________________________________\n",
      "flatten_2 (Flatten)          (None, 1200)              0         \n",
      "_________________________________________________________________\n",
      "dense_4 (Dense)              (None, 256)               307456    \n",
      "_________________________________________________________________\n",
      "dense_5 (Dense)              (None, 84)                21588     \n",
      "_________________________________________________________________\n",
      "dense_6 (Dense)              (None, 10)                850       \n",
      "=================================================================\n",
      "Total params: 369,174\n",
      "Trainable params: 369,174\n",
      "Non-trainable params: 0\n",
      "_________________________________________________________________\n"
     ]
    }
   ],
   "source": [
    "model.build()\n",
    "model.summary()"
   ]
  },
  {
   "cell_type": "code",
   "execution_count": 30,
   "metadata": {
    "id": "LBzwclK60wlr"
   },
   "outputs": [],
   "source": [
    "adam = tf.keras.optimizers.Adam(lr=5e-4)\n",
    "model.compile(\n",
    "  loss='categorical_crossentropy', \n",
    "  metrics=['accuracy'], \n",
    "  optimizer=adam\n",
    ")"
   ]
  },
  {
   "cell_type": "code",
   "execution_count": 31,
   "metadata": {
    "id": "j37T_pUxkwUC"
   },
   "outputs": [],
   "source": [
    "reduce_lr = ReduceLROnPlateau(\n",
    "  monitor='val_acc',\n",
    "  patience=3,\n",
    "  verbose=1,\n",
    "  factor=0.2,\n",
    "  min_lr=1e-6\n",
    ")"
   ]
  },
  {
   "cell_type": "code",
   "execution_count": 32,
   "metadata": {
    "id": "kvfvoCKjkwRp"
   },
   "outputs": [],
   "source": [
    "datagen = ImageDataGenerator(\n",
    "  rotation_range=10,\n",
    "  width_shift_range=0.1,\n",
    "  height_shift_range=0.1,\n",
    "  zoom_range=0.1\n",
    ")\n",
    "\n",
    "datagen.fit(X_train)"
   ]
  },
  {
   "cell_type": "code",
   "execution_count": 33,
   "metadata": {
    "colab": {
     "base_uri": "https://localhost:8080/"
    },
    "id": "apbAUNwVkwPK",
    "outputId": "91166e03-5f09-4c62-83ee-00a5c6af8417"
   },
   "outputs": [
    {
     "name": "stdout",
     "output_type": "stream",
     "text": [
      "Epoch 1/30\n",
      "378/378 [==============================] - ETA: 0s - loss: 0.4804 - accuracy: 0.8507WARNING:tensorflow:Reduce LR on plateau conditioned on metric `val_acc` which is not available. Available metrics are: loss,accuracy,val_loss,val_accuracy,lr\n",
      "378/378 [==============================] - 41s 107ms/step - loss: 0.4804 - accuracy: 0.8507 - val_loss: 0.1287 - val_accuracy: 0.9629\n",
      "Epoch 2/30\n",
      "378/378 [==============================] - ETA: 0s - loss: 0.1455 - accuracy: 0.9554WARNING:tensorflow:Reduce LR on plateau conditioned on metric `val_acc` which is not available. Available metrics are: loss,accuracy,val_loss,val_accuracy,lr\n",
      "378/378 [==============================] - 41s 108ms/step - loss: 0.1455 - accuracy: 0.9554 - val_loss: 0.0879 - val_accuracy: 0.9750\n",
      "Epoch 3/30\n",
      "378/378 [==============================] - ETA: 0s - loss: 0.1000 - accuracy: 0.9691WARNING:tensorflow:Reduce LR on plateau conditioned on metric `val_acc` which is not available. Available metrics are: loss,accuracy,val_loss,val_accuracy,lr\n",
      "378/378 [==============================] - 40s 107ms/step - loss: 0.1000 - accuracy: 0.9691 - val_loss: 0.0595 - val_accuracy: 0.9814\n",
      "Epoch 4/30\n",
      "378/378 [==============================] - ETA: 0s - loss: 0.0785 - accuracy: 0.9761WARNING:tensorflow:Reduce LR on plateau conditioned on metric `val_acc` which is not available. Available metrics are: loss,accuracy,val_loss,val_accuracy,lr\n",
      "378/378 [==============================] - 41s 109ms/step - loss: 0.0785 - accuracy: 0.9761 - val_loss: 0.0627 - val_accuracy: 0.9836\n",
      "Epoch 5/30\n",
      "378/378 [==============================] - ETA: 0s - loss: 0.0669 - accuracy: 0.9799WARNING:tensorflow:Reduce LR on plateau conditioned on metric `val_acc` which is not available. Available metrics are: loss,accuracy,val_loss,val_accuracy,lr\n",
      "378/378 [==============================] - 40s 106ms/step - loss: 0.0669 - accuracy: 0.9799 - val_loss: 0.0355 - val_accuracy: 0.9907\n",
      "Epoch 6/30\n",
      "378/378 [==============================] - ETA: 0s - loss: 0.0598 - accuracy: 0.9820WARNING:tensorflow:Reduce LR on plateau conditioned on metric `val_acc` which is not available. Available metrics are: loss,accuracy,val_loss,val_accuracy,lr\n",
      "378/378 [==============================] - 40s 107ms/step - loss: 0.0598 - accuracy: 0.9820 - val_loss: 0.0379 - val_accuracy: 0.9886\n",
      "Epoch 7/30\n",
      "378/378 [==============================] - ETA: 0s - loss: 0.0539 - accuracy: 0.9832WARNING:tensorflow:Reduce LR on plateau conditioned on metric `val_acc` which is not available. Available metrics are: loss,accuracy,val_loss,val_accuracy,lr\n",
      "378/378 [==============================] - 41s 109ms/step - loss: 0.0539 - accuracy: 0.9832 - val_loss: 0.0391 - val_accuracy: 0.9898\n",
      "Epoch 8/30\n",
      "378/378 [==============================] - ETA: 0s - loss: 0.0501 - accuracy: 0.9842WARNING:tensorflow:Reduce LR on plateau conditioned on metric `val_acc` which is not available. Available metrics are: loss,accuracy,val_loss,val_accuracy,lr\n",
      "378/378 [==============================] - 41s 108ms/step - loss: 0.0501 - accuracy: 0.9842 - val_loss: 0.0333 - val_accuracy: 0.9893\n",
      "Epoch 9/30\n",
      "378/378 [==============================] - ETA: 0s - loss: 0.0453 - accuracy: 0.9855WARNING:tensorflow:Reduce LR on plateau conditioned on metric `val_acc` which is not available. Available metrics are: loss,accuracy,val_loss,val_accuracy,lr\n",
      "378/378 [==============================] - 42s 111ms/step - loss: 0.0453 - accuracy: 0.9855 - val_loss: 0.0363 - val_accuracy: 0.9879\n",
      "Epoch 10/30\n",
      "378/378 [==============================] - ETA: 0s - loss: 0.0419 - accuracy: 0.9872WARNING:tensorflow:Reduce LR on plateau conditioned on metric `val_acc` which is not available. Available metrics are: loss,accuracy,val_loss,val_accuracy,lr\n",
      "378/378 [==============================] - 41s 109ms/step - loss: 0.0419 - accuracy: 0.9872 - val_loss: 0.0362 - val_accuracy: 0.9905\n",
      "Epoch 11/30\n",
      "378/378 [==============================] - ETA: 0s - loss: 0.0401 - accuracy: 0.9877WARNING:tensorflow:Reduce LR on plateau conditioned on metric `val_acc` which is not available. Available metrics are: loss,accuracy,val_loss,val_accuracy,lr\n",
      "378/378 [==============================] - 42s 112ms/step - loss: 0.0401 - accuracy: 0.9877 - val_loss: 0.0339 - val_accuracy: 0.9907\n",
      "Epoch 12/30\n",
      "378/378 [==============================] - ETA: 0s - loss: 0.0365 - accuracy: 0.9881WARNING:tensorflow:Reduce LR on plateau conditioned on metric `val_acc` which is not available. Available metrics are: loss,accuracy,val_loss,val_accuracy,lr\n",
      "378/378 [==============================] - 42s 111ms/step - loss: 0.0365 - accuracy: 0.9881 - val_loss: 0.0390 - val_accuracy: 0.9890\n",
      "Epoch 13/30\n",
      "378/378 [==============================] - ETA: 0s - loss: 0.0358 - accuracy: 0.9888WARNING:tensorflow:Reduce LR on plateau conditioned on metric `val_acc` which is not available. Available metrics are: loss,accuracy,val_loss,val_accuracy,lr\n",
      "378/378 [==============================] - 42s 111ms/step - loss: 0.0358 - accuracy: 0.9888 - val_loss: 0.0262 - val_accuracy: 0.9905\n",
      "Epoch 14/30\n",
      "378/378 [==============================] - ETA: 0s - loss: 0.0334 - accuracy: 0.9893WARNING:tensorflow:Reduce LR on plateau conditioned on metric `val_acc` which is not available. Available metrics are: loss,accuracy,val_loss,val_accuracy,lr\n",
      "378/378 [==============================] - 42s 111ms/step - loss: 0.0334 - accuracy: 0.9893 - val_loss: 0.0313 - val_accuracy: 0.9902\n",
      "Epoch 15/30\n",
      "378/378 [==============================] - ETA: 0s - loss: 0.0319 - accuracy: 0.9901WARNING:tensorflow:Reduce LR on plateau conditioned on metric `val_acc` which is not available. Available metrics are: loss,accuracy,val_loss,val_accuracy,lr\n",
      "378/378 [==============================] - 42s 110ms/step - loss: 0.0319 - accuracy: 0.9901 - val_loss: 0.0339 - val_accuracy: 0.9890\n",
      "Epoch 16/30\n",
      "378/378 [==============================] - ETA: 0s - loss: 0.0293 - accuracy: 0.9908WARNING:tensorflow:Reduce LR on plateau conditioned on metric `val_acc` which is not available. Available metrics are: loss,accuracy,val_loss,val_accuracy,lr\n",
      "378/378 [==============================] - 42s 110ms/step - loss: 0.0293 - accuracy: 0.9908 - val_loss: 0.0318 - val_accuracy: 0.9907\n",
      "Epoch 17/30\n",
      "378/378 [==============================] - ETA: 0s - loss: 0.0278 - accuracy: 0.9913WARNING:tensorflow:Reduce LR on plateau conditioned on metric `val_acc` which is not available. Available metrics are: loss,accuracy,val_loss,val_accuracy,lr\n",
      "378/378 [==============================] - 42s 111ms/step - loss: 0.0278 - accuracy: 0.9913 - val_loss: 0.0291 - val_accuracy: 0.9914\n",
      "Epoch 18/30\n",
      "378/378 [==============================] - ETA: 0s - loss: 0.0281 - accuracy: 0.9916WARNING:tensorflow:Reduce LR on plateau conditioned on metric `val_acc` which is not available. Available metrics are: loss,accuracy,val_loss,val_accuracy,lr\n",
      "378/378 [==============================] - 41s 109ms/step - loss: 0.0281 - accuracy: 0.9916 - val_loss: 0.0288 - val_accuracy: 0.9919\n",
      "Epoch 19/30\n",
      "378/378 [==============================] - ETA: 0s - loss: 0.0255 - accuracy: 0.9921WARNING:tensorflow:Reduce LR on plateau conditioned on metric `val_acc` which is not available. Available metrics are: loss,accuracy,val_loss,val_accuracy,lr\n",
      "378/378 [==============================] - 41s 108ms/step - loss: 0.0255 - accuracy: 0.9921 - val_loss: 0.0275 - val_accuracy: 0.9919\n",
      "Epoch 20/30\n",
      "378/378 [==============================] - ETA: 0s - loss: 0.0256 - accuracy: 0.9916WARNING:tensorflow:Reduce LR on plateau conditioned on metric `val_acc` which is not available. Available metrics are: loss,accuracy,val_loss,val_accuracy,lr\n",
      "378/378 [==============================] - 41s 109ms/step - loss: 0.0256 - accuracy: 0.9916 - val_loss: 0.0232 - val_accuracy: 0.9936\n",
      "Epoch 21/30\n",
      "378/378 [==============================] - ETA: 0s - loss: 0.0230 - accuracy: 0.9927WARNING:tensorflow:Reduce LR on plateau conditioned on metric `val_acc` which is not available. Available metrics are: loss,accuracy,val_loss,val_accuracy,lr\n",
      "378/378 [==============================] - 41s 109ms/step - loss: 0.0230 - accuracy: 0.9927 - val_loss: 0.0282 - val_accuracy: 0.9929\n",
      "Epoch 22/30\n",
      "378/378 [==============================] - ETA: 0s - loss: 0.0228 - accuracy: 0.9923WARNING:tensorflow:Reduce LR on plateau conditioned on metric `val_acc` which is not available. Available metrics are: loss,accuracy,val_loss,val_accuracy,lr\n",
      "378/378 [==============================] - 39s 104ms/step - loss: 0.0228 - accuracy: 0.9923 - val_loss: 0.0268 - val_accuracy: 0.9924\n",
      "Epoch 23/30\n",
      "378/378 [==============================] - ETA: 0s - loss: 0.0214 - accuracy: 0.9928WARNING:tensorflow:Reduce LR on plateau conditioned on metric `val_acc` which is not available. Available metrics are: loss,accuracy,val_loss,val_accuracy,lr\n",
      "378/378 [==============================] - 39s 104ms/step - loss: 0.0214 - accuracy: 0.9928 - val_loss: 0.0279 - val_accuracy: 0.9905\n",
      "Epoch 24/30\n",
      "378/378 [==============================] - ETA: 0s - loss: 0.0218 - accuracy: 0.9925WARNING:tensorflow:Reduce LR on plateau conditioned on metric `val_acc` which is not available. Available metrics are: loss,accuracy,val_loss,val_accuracy,lr\n",
      "378/378 [==============================] - 40s 106ms/step - loss: 0.0218 - accuracy: 0.9925 - val_loss: 0.0251 - val_accuracy: 0.9929\n",
      "Epoch 25/30\n",
      "378/378 [==============================] - ETA: 0s - loss: 0.0204 - accuracy: 0.9934WARNING:tensorflow:Reduce LR on plateau conditioned on metric `val_acc` which is not available. Available metrics are: loss,accuracy,val_loss,val_accuracy,lr\n",
      "378/378 [==============================] - 40s 107ms/step - loss: 0.0204 - accuracy: 0.9934 - val_loss: 0.0242 - val_accuracy: 0.9933\n",
      "Epoch 26/30\n",
      "378/378 [==============================] - ETA: 0s - loss: 0.0204 - accuracy: 0.9933WARNING:tensorflow:Reduce LR on plateau conditioned on metric `val_acc` which is not available. Available metrics are: loss,accuracy,val_loss,val_accuracy,lr\n",
      "378/378 [==============================] - 41s 108ms/step - loss: 0.0204 - accuracy: 0.9933 - val_loss: 0.0220 - val_accuracy: 0.9940\n",
      "Epoch 27/30\n",
      "378/378 [==============================] - ETA: 0s - loss: 0.0213 - accuracy: 0.9934WARNING:tensorflow:Reduce LR on plateau conditioned on metric `val_acc` which is not available. Available metrics are: loss,accuracy,val_loss,val_accuracy,lr\n",
      "378/378 [==============================] - 40s 106ms/step - loss: 0.0213 - accuracy: 0.9934 - val_loss: 0.0286 - val_accuracy: 0.9926\n",
      "Epoch 28/30\n",
      "378/378 [==============================] - ETA: 0s - loss: 0.0184 - accuracy: 0.9938WARNING:tensorflow:Reduce LR on plateau conditioned on metric `val_acc` which is not available. Available metrics are: loss,accuracy,val_loss,val_accuracy,lr\n",
      "378/378 [==============================] - 41s 108ms/step - loss: 0.0184 - accuracy: 0.9938 - val_loss: 0.0326 - val_accuracy: 0.9917\n",
      "Epoch 29/30\n",
      "378/378 [==============================] - ETA: 0s - loss: 0.0178 - accuracy: 0.9939WARNING:tensorflow:Reduce LR on plateau conditioned on metric `val_acc` which is not available. Available metrics are: loss,accuracy,val_loss,val_accuracy,lr\n",
      "378/378 [==============================] - 40s 106ms/step - loss: 0.0178 - accuracy: 0.9939 - val_loss: 0.0179 - val_accuracy: 0.9943\n",
      "Epoch 30/30\n",
      "378/378 [==============================] - ETA: 0s - loss: 0.0184 - accuracy: 0.9942WARNING:tensorflow:Reduce LR on plateau conditioned on metric `val_acc` which is not available. Available metrics are: loss,accuracy,val_loss,val_accuracy,lr\n",
      "378/378 [==============================] - 41s 108ms/step - loss: 0.0184 - accuracy: 0.9942 - val_loss: 0.0204 - val_accuracy: 0.9950\n"
     ]
    },
    {
     "data": {
      "text/plain": [
       "<tensorflow.python.keras.callbacks.History at 0x200a6019790>"
      ]
     },
     "execution_count": 33,
     "metadata": {},
     "output_type": "execute_result"
    }
   ],
   "source": [
    "model.fit_generator(\n",
    "  datagen.flow(X_train, Y_train, batch_size=100), \n",
    "  steps_per_epoch=len(X_train)/100,\n",
    "  epochs=30, \n",
    "  validation_data=(X_val, Y_val), \n",
    "  callbacks=[reduce_lr]\n",
    ")"
   ]
  },
  {
   "cell_type": "code",
   "execution_count": 34,
   "metadata": {
    "colab": {
     "base_uri": "https://localhost:8080/"
    },
    "id": "MzBc7EYIkwMx",
    "outputId": "43ff49f6-37b8-4eb9-bcfc-5794b23f4a27"
   },
   "outputs": [
    {
     "name": "stdout",
     "output_type": "stream",
     "text": [
      "132/132 [==============================] - 1s 9ms/step - loss: 0.0204 - accuracy: 0.9950\n"
     ]
    }
   ],
   "source": [
    "score = model.evaluate(X_val, Y_val, batch_size=32)"
   ]
  },
  {
   "cell_type": "code",
   "execution_count": 35,
   "metadata": {
    "colab": {
     "base_uri": "https://localhost:8080/"
    },
    "id": "bvZxlH6IkwKC",
    "outputId": "3dd87d3d-1eb7-42a8-abf1-12b70aa70b89"
   },
   "outputs": [
    {
     "data": {
      "text/plain": [
       "array([8, 8, 8, 8, 8], dtype=int64)"
      ]
     },
     "execution_count": 35,
     "metadata": {},
     "output_type": "execute_result"
    }
   ],
   "source": [
    "X_test = np.array(test)\n",
    "X_test = X_test/255.0\n",
    "X_test = X_test.reshape((X_test.shape[0], 28, 28, 1))\n",
    "Y_test = model.predict(X_test)\n",
    "Y_test = np.argmax(Y_test, axis=1)\n",
    "Y_test[:5]"
   ]
  },
  {
   "cell_type": "markdown",
   "metadata": {
    "id": "RZ--YGv5PlX2"
   },
   "source": [
    "# General conclusion:\n",
    "Dirung this lab I tested different approaches to train the model to predict hand written digits.\n",
    "<br><br>\n",
    "The best result was performed by model LeNet-5.\n",
    "After 30 epochs it reached 99.38% validation accuracy.\n",
    "<br><br>\n",
    "When I tried to augment data by torating it horisontally/vertically or tried to use Featurewise_center, I got bad results (<50% accuracy on 10 classes)\n",
    "<br><br>\n",
    "I tried to use rectangular cernel in convolutional layer for this exact dataset, but it also performed worse, than square."
   ]
  }
 ],
 "metadata": {
  "accelerator": "GPU",
  "colab": {
   "collapsed_sections": [],
   "name": "DL2.ipynb",
   "provenance": []
  },
  "kernelspec": {
   "display_name": "Python 3 (ipykernel)",
   "language": "python",
   "name": "python3"
  },
  "language_info": {
   "codemirror_mode": {
    "name": "ipython",
    "version": 3
   },
   "file_extension": ".py",
   "mimetype": "text/x-python",
   "name": "python",
   "nbconvert_exporter": "python",
   "pygments_lexer": "ipython3",
   "version": "3.8.11"
  }
 },
 "nbformat": 4,
 "nbformat_minor": 1
}
